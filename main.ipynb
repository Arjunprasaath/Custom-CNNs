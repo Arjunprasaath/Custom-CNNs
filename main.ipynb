{
 "cells": [
  {
   "cell_type": "code",
   "execution_count": 35,
   "metadata": {},
   "outputs": [],
   "source": [
    "import numpy as np\n",
    "from tqdm import tqdm\n",
    "import tensorflow as tf\n",
    "import matplotlib.pyplot as plt\n",
    "from tensorflow.keras import layers, models\n",
    "\n",
    "np.random.seed(10)"
   ]
  },
  {
   "cell_type": "markdown",
   "metadata": {},
   "source": [
    "### CNN"
   ]
  },
  {
   "cell_type": "code",
   "execution_count": 36,
   "metadata": {},
   "outputs": [],
   "source": [
    "# Convolution 2D class using Numpy\n",
    "class Con2D():\n",
    "    def __init__(self, kernel_size, stride, learning_rate):\n",
    "        self.kernel_size = kernel_size\n",
    "        self.stride = stride\n",
    "        self.learning_rate = learning_rate\n",
    "\n",
    "        self.kernel = np.random.randn(self.kernel_size, self.kernel_size) * np.sqrt(2.0 / (kernel_size * kernel_size))\n",
    "        # print(self.kernel)\n",
    "        \n",
    "    def forward(self, image):\n",
    "        self.image = image.copy()\n",
    "        in_l, in_w = image.shape\n",
    "        \n",
    "        convolved_l = int((in_l - self.kernel_size) / self.stride) + 1\n",
    "        convolved_w = int((in_w - self.kernel_size) / self.stride) + 1\n",
    "        output = np.zeros((convolved_l, convolved_w))\n",
    "\n",
    "        for l in range(convolved_l):\n",
    "            for w in range(convolved_w):\n",
    "                l_pos = l * self.stride\n",
    "                w_pos = w * self.stride\n",
    "                sub_img = image[l_pos : l_pos + self.kernel_size, w_pos : w_pos + self.kernel_size]\n",
    "                output[l, w] = np.sum(sub_img * self.kernel)\n",
    "\n",
    "        return output\n",
    "    \n",
    "    def backward(self, dout):\n",
    "        self.dkernel = np.zeros_like(self.kernel)\n",
    "\n",
    "        for l in range(0, dout.shape[0]):\n",
    "            for w in range(0, dout.shape[1]):\n",
    "                l_pos = l * self.stride\n",
    "                w_pos = w * self.stride\n",
    "                sub_img = self.image[l_pos : l_pos + self.kernel_size, w_pos : w_pos + self.kernel_size]\n",
    "                self.dkernel += dout[l, w] * sub_img\n",
    "        # self.dkernel /= self.dkernel.size\n",
    "\n",
    "        self.dkernel = np.clip(self.dkernel, -1e3, 1e3)\n",
    "        self.kernel -= self.learning_rate * self.dkernel\n",
    "        return self.dkernel\n",
    "        "
   ]
  },
  {
   "cell_type": "code",
   "execution_count": 37,
   "metadata": {},
   "outputs": [],
   "source": [
    "# Activation - ReLU\n",
    "class ReLU():\n",
    "    def __init__(self):\n",
    "        pass\n",
    "    def forward(self, input):\n",
    "        self.input = input\n",
    "        self.output = np.maximum(0, input)\n",
    "        return self.output\n",
    "\n",
    "    def backward(self, dout):\n",
    "        # print(self.input > 0)\n",
    "        self.doutput = dout * (self.input > 0)\n",
    "        return self.doutput\n",
    "\n",
    "# Activation - Sigmoid\n",
    "class Sigmoid():\n",
    "    def __init__(self):\n",
    "        pass\n",
    "    def forward(self, input):\n",
    "        self.sig = 1 / (1 + np.exp(-input))\n",
    "        return self.sig\n",
    "    \n",
    "    def backward(self, dout):\n",
    "        return dout * self.sig * (1 - self.sig)  \n",
    "    \n",
    "# Activation - Softmax\n",
    "class Softmax():\n",
    "    def __init__(self):\n",
    "        self.eps = 1e-6\n",
    "    def forward(self, input):\n",
    "        # Handle numerical stability\n",
    "        self.input = input.copy()\n",
    "        # Shift values to avoid overflow\n",
    "        shifted_input = input - np.max(input)\n",
    "        exp_values = np.exp(shifted_input)\n",
    "        self.out = exp_values / (np.sum(exp_values) + self.eps)\n",
    "        # Clip outputs to avoid zeros\n",
    "        self.out = np.clip(self.out, self.eps, 1.0 - self.eps)\n",
    "        return self.out\n",
    "\n",
    "    def backward(self, dout):\n",
    "        dx = self.out * (dout - np.sum(dout * self.out))\n",
    "        return dx\n"
   ]
  },
  {
   "cell_type": "code",
   "execution_count": 38,
   "metadata": {},
   "outputs": [],
   "source": [
    "# Pooling\n",
    "class MaxPooling():\n",
    "    def __init__(self, pool_size, stride):\n",
    "        self.pool_size = pool_size\n",
    "        self.stride = stride\n",
    "    \n",
    "    def forward(self, input):\n",
    "        self.input = input\n",
    "        self.in_l, self.in_w, = input.shape\n",
    "        \n",
    "        convolved_l = int((self.in_l - self.pool_size) / self.stride) + 1\n",
    "        convolved_w = int((self.in_w - self.pool_size) / self.stride) + 1\n",
    "        \n",
    "        self.output = np.zeros((convolved_l, convolved_w))\n",
    "        self.mask = np.zeros_like(input)\n",
    "\n",
    "        for l in range(convolved_l):\n",
    "            for w in range(convolved_w):\n",
    "                l_pos = l * self.stride\n",
    "                w_pos = w * self.stride\n",
    "                sub_img = self.input[l_pos : l_pos + self.pool_size, w_pos : w_pos + self.pool_size]\n",
    "                # print(sub_img, np.max(sub_img), (np.unravel_index(np.argmax(sub_img), sub_img.shape))[0] + l, (np.unravel_index(np.argmax(sub_img), sub_img.shape))[1] + w) # np.where(sub_img == np.max(sub_img)))\n",
    "                max_idx = np.unravel_index(np.argmax(sub_img), sub_img.shape)\n",
    "                self.output[l, w] = np.max(sub_img)\n",
    "                self.mask[l_pos + max_idx[0], w_pos + max_idx[1]] = 1\n",
    "\n",
    "        return self.output\n",
    "\n",
    "    def backward(self, dl):\n",
    "        dout = np.zeros_like(self.input)\n",
    "        # print(dl)\n",
    "        dl_l, dl_w = dl.shape\n",
    "        for l in range(dl_l):\n",
    "            for w in range(dl_w):\n",
    "                l_pos = l * self.stride\n",
    "                w_pos = w * self.stride\n",
    "                sub_img = self.mask[l_pos : l_pos + self.pool_size, w_pos : w_pos + self.pool_size]\n",
    "                dout[l_pos : l_pos + self.pool_size, w_pos : w_pos + self.pool_size] += dl[l, w] * sub_img\n",
    "\n",
    "        return dout\n"
   ]
  },
  {
   "cell_type": "code",
   "execution_count": 39,
   "metadata": {},
   "outputs": [],
   "source": [
    "# Class for flattenting\n",
    "class Flatten():\n",
    "    def __init__(self) -> None:\n",
    "        pass\n",
    "\n",
    "    def forward(self, input):\n",
    "        self.input = input\n",
    "        self.in_l, self.in_w = self.input.shape\n",
    "        return input.flatten()\n",
    "\n",
    "    def backward(self, dloss):\n",
    "        return dloss.reshape(self.input.shape)\n",
    "    "
   ]
  },
  {
   "cell_type": "code",
   "execution_count": 40,
   "metadata": {},
   "outputs": [],
   "source": [
    "# Feed Forward Network\n",
    "class FeedForwardNetwork():\n",
    "    def __init__(self, input_size, output_size, learning_rate):\n",
    "        self.input_size = input_size\n",
    "        self.output_size = output_size\n",
    "        self.learning_rate = learning_rate\n",
    "\n",
    "        # Xavier initialization\n",
    "        limit = np.sqrt(2.0/ (self.input_size + self.output_size))\n",
    "        self.w = np.random.uniform(-limit, limit, (self.output_size, self.input_size))\n",
    "        self.b = np.zeros((1, self.output_size))\n",
    "        # print(self.w)\n",
    "\n",
    "    def forward(self, input):\n",
    "        # print(input.shape, self.w.shape)\n",
    "        if len(input.shape) == 1:\n",
    "            self.input = input.reshape(1, -1) # add a 1 to the dimension\n",
    "        else:\n",
    "            self.input = input\n",
    "        self.h = np.dot(self.input, self.w.T) + self.b\n",
    "        return self.h\n",
    "    \n",
    "    def backward(self, dloss):\n",
    "        dw = np.dot(dloss.T, self.input) \n",
    "        db = np.sum(dloss, axis = 0, keepdims = True)\n",
    "\n",
    "        self.w -= self.learning_rate * dw\n",
    "        self.b -= self.learning_rate * db\n",
    "\n",
    "        dinput = np.dot(dloss, self.w)\n",
    "        return dinput\n"
   ]
  },
  {
   "cell_type": "markdown",
   "metadata": {},
   "source": [
    "### Classifying MNIST Dataset"
   ]
  },
  {
   "cell_type": "code",
   "execution_count": 55,
   "metadata": {},
   "outputs": [],
   "source": [
    "mnist = tf.keras.datasets.mnist\n",
    "(x_train, y_train), (x_test, y_test) = mnist.load_data()\n",
    "\n",
    "# Normalize inputs\n",
    "x_train, x_test = x_train / 255, x_test / 255"
   ]
  },
  {
   "cell_type": "code",
   "execution_count": 56,
   "metadata": {},
   "outputs": [
    {
     "data": {
      "image/png": "[encoded data removed]",
      "text/plain": [
       "<Figure size 640x480 with 1 Axes>"
      ]
     },
     "metadata": {},
     "output_type": "display_data"
    },
    {
     "data": {
      "image/png": "[encoded data removed]",
      "text/plain": [
       "<Figure size 640x480 with 1 Axes>"
      ]
     },
     "metadata": {},
     "output_type": "display_data"
    },
    {
     "data": {
      "image/png": "[encoded data removed]",
      "text/plain": [
       "<Figure size 640x480 with 1 Axes>"
      ]
     },
     "metadata": {},
     "output_type": "display_data"
    }
   ],
   "source": [
    "for i in range(3):  \n",
    "    plt.subplot(330 + 1 + i)\n",
    "    plt.imshow(x_train[i], cmap=plt.get_cmap('gray'))\n",
    "    plt.title(y_train[i])\n",
    "    plt.show()"
   ]
  },
  {
   "cell_type": "code",
   "execution_count": 57,
   "metadata": {},
   "outputs": [
    {
     "name": "stdout",
     "output_type": "stream",
     "text": [
      "Size after Convolution: 24.0 \n",
      "Size after Pooling: 22.0\n"
     ]
    }
   ],
   "source": [
    "# Understanding size conversion\n",
    "kernel_size = 5\n",
    "pool_size = 3\n",
    "stride = 1\n",
    "c_s = ((28 - kernel_size) / stride) + 1\n",
    "\n",
    "p_s = ((c_s - pool_size) /stride) + 1\n",
    "print(\"Size after Convolution:\", c_s, \"\\nSize after Pooling:\", p_s)"
   ]
  },
  {
   "cell_type": "code",
   "execution_count": 58,
   "metadata": {},
   "outputs": [],
   "source": [
    "# Expansion function for targets\n",
    "def expansion(target):\n",
    "    one_hot = np.zeros(10)\n",
    "    one_hot[target] = 1\n",
    "    return one_hot\n",
    "\n",
    "# Multi class cross entropy\n",
    "def multi_class_cross_entropy(target, y_pred):\n",
    "    epsilon = 1e-7\n",
    "    y_pred = np.clip(y_pred, epsilon, 1 - epsilon)\n",
    "    loss = - np.sum(target * np.log(y_pred), axis=0).mean()\n",
    "    return loss"
   ]
  },
  {
   "cell_type": "code",
   "execution_count": 63,
   "metadata": {},
   "outputs": [
    {
     "name": "stderr",
     "output_type": "stream",
     "text": [
      "100%|██████████| 3000/3000 [00:14<00:00, 206.81it/s]\n"
     ]
    },
    {
     "name": "stdout",
     "output_type": "stream",
     "text": [
      "Loss:  0.17507528795161761\n"
     ]
    },
    {
     "name": "stderr",
     "output_type": "stream",
     "text": [
      "100%|██████████| 3000/3000 [00:14<00:00, 207.27it/s]\n"
     ]
    },
    {
     "name": "stdout",
     "output_type": "stream",
     "text": [
      "Loss:  0.1329847202051662\n"
     ]
    },
    {
     "name": "stderr",
     "output_type": "stream",
     "text": [
      "100%|██████████| 3000/3000 [00:14<00:00, 207.75it/s]\n"
     ]
    },
    {
     "name": "stdout",
     "output_type": "stream",
     "text": [
      "Loss:  0.11078817250651996\n"
     ]
    },
    {
     "name": "stderr",
     "output_type": "stream",
     "text": [
      "100%|██████████| 3000/3000 [00:14<00:00, 207.60it/s]\n"
     ]
    },
    {
     "name": "stdout",
     "output_type": "stream",
     "text": [
      "Loss:  0.09733102389797102\n"
     ]
    },
    {
     "name": "stderr",
     "output_type": "stream",
     "text": [
      "100%|██████████| 3000/3000 [00:14<00:00, 207.35it/s]\n"
     ]
    },
    {
     "name": "stdout",
     "output_type": "stream",
     "text": [
      "Loss:  0.08708857232496633\n"
     ]
    },
    {
     "name": "stderr",
     "output_type": "stream",
     "text": [
      "100%|██████████| 3000/3000 [00:14<00:00, 207.59it/s]\n"
     ]
    },
    {
     "name": "stdout",
     "output_type": "stream",
     "text": [
      "Loss:  0.08035889291537576\n"
     ]
    },
    {
     "name": "stderr",
     "output_type": "stream",
     "text": [
      "100%|██████████| 3000/3000 [00:14<00:00, 208.03it/s]\n"
     ]
    },
    {
     "name": "stdout",
     "output_type": "stream",
     "text": [
      "Loss:  0.07501435264256054\n"
     ]
    },
    {
     "name": "stderr",
     "output_type": "stream",
     "text": [
      "100%|██████████| 3000/3000 [00:14<00:00, 207.29it/s]\n"
     ]
    },
    {
     "name": "stdout",
     "output_type": "stream",
     "text": [
      "Loss:  0.07115909396761269\n"
     ]
    },
    {
     "name": "stderr",
     "output_type": "stream",
     "text": [
      "100%|██████████| 3000/3000 [00:14<00:00, 206.77it/s]\n"
     ]
    },
    {
     "name": "stdout",
     "output_type": "stream",
     "text": [
      "Loss:  0.06833312822462485\n"
     ]
    },
    {
     "name": "stderr",
     "output_type": "stream",
     "text": [
      "100%|██████████| 3000/3000 [00:14<00:00, 207.21it/s]"
     ]
    },
    {
     "name": "stdout",
     "output_type": "stream",
     "text": [
      "Loss:  0.06566168555612158\n"
     ]
    },
    {
     "name": "stderr",
     "output_type": "stream",
     "text": [
      "\n"
     ]
    }
   ],
   "source": [
    "# Training loop\n",
    "\n",
    "# Learning Rate\n",
    "alpha = 0.0001\n",
    "\n",
    "epochs = 10\n",
    "\n",
    "# CNN hyperparameters\n",
    "kernel_size = 5\n",
    "pool_size = 3\n",
    "stride = 1\n",
    "\n",
    "# Feed Forward Network hyperparameters\n",
    "input_size = 484\n",
    "output_size = 10\n",
    "\n",
    "# Initialization of modules\n",
    "conv_layer1 = Con2D(kernel_size, stride, alpha)\n",
    "conv_act1 = ReLU()\n",
    "pool1 = MaxPooling(pool_size, stride)\n",
    "\n",
    "flatten = Flatten()\n",
    "ffn1 = FeedForwardNetwork(input_size, output_size, alpha)  # First feedforward network\n",
    "sof_act = Softmax()\n",
    "\n",
    "avg_loss = []\n",
    "epoch_losses = []\n",
    "\n",
    "for epoch in range(epochs):\n",
    "\n",
    "    num_samples = 0\n",
    "\n",
    "    for idx in tqdm(np.random.choice(len(x_train), 3000)):\n",
    "        # Forward pass\n",
    "        num_samples += 1\n",
    "        x = x_train[idx]\n",
    "        target = expansion(y_train[idx])\n",
    "        # print(target, y_train[idx])\n",
    "\n",
    "        # First CNN block\n",
    "        convolved_img1 = conv_layer1.forward(x)\n",
    "        conv_relu1 = conv_act1.forward(convolved_img1)\n",
    "        conv_pool1 = pool1.forward(conv_relu1)\n",
    "\n",
    "        # Flatten and feed forward\n",
    "        flat = flatten.forward(conv_pool1)\n",
    "        layer1 = ffn1.forward(flat)\n",
    "        layer1_sof = sof_act.forward(layer1)\n",
    "\n",
    "        # Compute loss\n",
    "        loss = multi_class_cross_entropy(target, layer1_sof)\n",
    "        epoch_losses.append(loss)  # Collect loss for this iteration\n",
    "\n",
    "        # Backpropagation\n",
    "        dloss = (layer1_sof - target)  # / target.size\n",
    "        # print(dloss)\n",
    "\n",
    "        dffn1 = ffn1.backward(dloss)\n",
    "        dflat = flatten.backward(dffn1)\n",
    "\n",
    "        dpool1 = pool1.backward(dflat)\n",
    "        dactivated1 = conv_act1.backward(dpool1)\n",
    "        dkernel1 = conv_layer1.backward(dactivated1)\n",
    "\n",
    "    avg_loss.append(np.mean(epoch_losses))  # Compute average loss for the epoch\n",
    "    print(\"Loss: \", avg_loss[epoch])\n"
   ]
  },
  {
   "cell_type": "code",
   "execution_count": 65,
   "metadata": {},
   "outputs": [
    {
     "data": {
      "image/png": "[encoded data removed]",
      "text/plain": [
       "<Figure size 1200x600 with 1 Axes>"
      ]
     },
     "metadata": {},
     "output_type": "display_data"
    }
   ],
   "source": [
    "# Loss plot\n",
    "# Create x-axis for avg_loss (epochs)\n",
    "epochs = np.linspace(1, len(epoch_losses), len(avg_loss))\n",
    "\n",
    "# Plot avg_loss\n",
    "plt.figure(figsize=(12, 6))\n",
    "plt.plot(epochs, avg_loss, label=\"Average Loss per epoch\", color=\"orange\", marker='o', linestyle='--', linewidth=2)\n",
    "\n",
    "# Add labels, title, and legend\n",
    "plt.xlabel(\"Epochs\")\n",
    "plt.ylabel(\"Loss\")\n",
    "plt.title(\"Average Loss per Epoch\")\n",
    "plt.legend()\n",
    "plt.grid(True)\n",
    "\n",
    "# Show the plot\n",
    "plt.show()"
   ]
  },
  {
   "cell_type": "code",
   "execution_count": 66,
   "metadata": {},
   "outputs": [
    {
     "name": "stderr",
     "output_type": "stream",
     "text": [
      "100%|██████████| 1000/1000 [00:03<00:00, 322.41it/s]"
     ]
    },
    {
     "name": "stdout",
     "output_type": "stream",
     "text": [
      "Accuracy:  85.5\n"
     ]
    },
    {
     "name": "stderr",
     "output_type": "stream",
     "text": [
      "\n"
     ]
    }
   ],
   "source": [
    "# Validation loop\n",
    "\n",
    "count = 0\n",
    "for idx, _x in enumerate(tqdm(x_test[:1000])):\n",
    "    convolved_img = conv_layer1.forward(_x)\n",
    "    # print(\"Convolved Shape:\", convolved_img.shape) #\"convolved_i1mg:\", convolved_img)\n",
    "\n",
    "    conv_relu = conv_act1.forward(convolved_img)\n",
    "    # print(\"Relu Shape:\", conv_relu.shape) # \"conv_relu:\", conv_relu,)\n",
    "\n",
    "    conv_pool = pool1.forward(conv_relu)\n",
    "    # print(\"Pooling Shape:\", conv_pool.shape) # \"conv_pool:\", conv_pool,)\n",
    "\n",
    "    flat = flatten.forward(conv_pool)\n",
    "    # print(\"Flatten Shape:\", flat.shape) # \"flat:\", flat,)\n",
    "\n",
    "    layer1 = ffn1.forward(flat)\n",
    "\n",
    "    # print(\"layer1 Shape: \", layer1.shape)\n",
    "    layer1_sof = sof_act.forward(layer1)\n",
    "\n",
    "    if np.argmax(layer1_sof) == y_test[idx]:\n",
    "        count += 1\n",
    "        #print(idx, layer1_sig, y_test[idx])\n",
    "\n",
    "accuracy = (count / 1000) * 100\n",
    "print(\"Accuracy: \", accuracy)"
   ]
  },
  {
   "cell_type": "code",
   "execution_count": 67,
   "metadata": {},
   "outputs": [
    {
     "data": {
      "image/png": "[encoded data removed]",
      "text/plain": [
       "<Figure size 640x480 with 1 Axes>"
      ]
     },
     "metadata": {},
     "output_type": "display_data"
    },
    {
     "name": "stdout",
     "output_type": "stream",
     "text": [
      "True Label: 7\n",
      "Predicted Class: 7\n"
     ]
    }
   ],
   "source": [
    "# Forward pass on a single test image and plot the image\n",
    "import matplotlib.pyplot as plt\n",
    "\n",
    "idx = 0\n",
    "\n",
    "# Select a single test image\n",
    "test_image = x_test[idx]\n",
    "\n",
    "# Perform forward pass\n",
    "convolved_img = conv_layer1.forward(test_image)\n",
    "conv_relu = conv_act1.forward(convolved_img)\n",
    "conv_pool = pool1.forward(conv_relu)\n",
    "flat = flatten.forward(conv_pool)\n",
    "layer1 = ffn1.forward(flat)\n",
    "layer1_sof = sof_act.forward(layer1)\n",
    "\n",
    "# Get the predicted class\n",
    "predicted_class = np.argmax(layer1_sof)\n",
    "\n",
    "# Plot the input image\n",
    "plt.imshow(test_image.squeeze(), cmap='gray')\n",
    "plt.title(f\"Predicted Class: {predicted_class}\")\n",
    "plt.axis('off')\n",
    "plt.show()\n",
    "\n",
    "# Output the true label and predicted class\n",
    "print(\"True Label:\", y_test[idx])\n",
    "print(\"Predicted Class:\", predicted_class)"
   ]
  },
  {
   "cell_type": "markdown",
   "metadata": {},
   "source": [
    "### Tensorflow Model"
   ]
  },
  {
   "cell_type": "code",
   "execution_count": 49,
   "metadata": {},
   "outputs": [],
   "source": [
    "mnist = tf.keras.datasets.mnist\n",
    "(x_train, y_train), (x_test, y_test) = mnist.load_data()\n",
    "x_train = x_train.reshape(-1, 28, 28, 1).astype('float32') / 255.0\n",
    "x_test = x_test.reshape(-1, 28, 28, 1).astype('float32') / 255.0"
   ]
  },
  {
   "cell_type": "code",
   "execution_count": 50,
   "metadata": {},
   "outputs": [
    {
     "data": {
      "text/html": [
       "<pre style=\"white-space:pre;overflow-x:auto;line-height:normal;font-family:Menlo,'DejaVu Sans Mono',consolas,'Courier New',monospace\"><span style=\"font-weight: bold\">Model: \"sequential_1\"</span>\n",
       "</pre>\n"
      ],
      "text/plain": [
       "\u001b[1mModel: \"sequential_1\"\u001b[0m\n"
      ]
     },
     "metadata": {},
     "output_type": "display_data"
    },
    {
     "data": {
      "text/html": [
       "<pre style=\"white-space:pre;overflow-x:auto;line-height:normal;font-family:Menlo,'DejaVu Sans Mono',consolas,'Courier New',monospace\">┏━━━━━━━━━━━━━━━━━━━━━━━━━━━━━━━━━┳━━━━━━━━━━━━━━━━━━━━━━━━┳━━━━━━━━━━━━━━━┓\n",
       "┃<span style=\"font-weight: bold\"> Layer (type)                    </span>┃<span style=\"font-weight: bold\"> Output Shape           </span>┃<span style=\"font-weight: bold\">       Param # </span>┃\n",
       "┡━━━━━━━━━━━━━━━━━━━━━━━━━━━━━━━━━╇━━━━━━━━━━━━━━━━━━━━━━━━╇━━━━━━━━━━━━━━━┩\n",
       "│ conv2d_1 (<span style=\"color: #0087ff; text-decoration-color: #0087ff\">Conv2D</span>)               │ (<span style=\"color: #00d7ff; text-decoration-color: #00d7ff\">None</span>, <span style=\"color: #00af00; text-decoration-color: #00af00\">24</span>, <span style=\"color: #00af00; text-decoration-color: #00af00\">24</span>, <span style=\"color: #00af00; text-decoration-color: #00af00\">24</span>)     │           <span style=\"color: #00af00; text-decoration-color: #00af00\">624</span> │\n",
       "├─────────────────────────────────┼────────────────────────┼───────────────┤\n",
       "│ max_pooling2d_1 (<span style=\"color: #0087ff; text-decoration-color: #0087ff\">MaxPooling2D</span>)  │ (<span style=\"color: #00d7ff; text-decoration-color: #00d7ff\">None</span>, <span style=\"color: #00af00; text-decoration-color: #00af00\">8</span>, <span style=\"color: #00af00; text-decoration-color: #00af00\">8</span>, <span style=\"color: #00af00; text-decoration-color: #00af00\">24</span>)       │             <span style=\"color: #00af00; text-decoration-color: #00af00\">0</span> │\n",
       "├─────────────────────────────────┼────────────────────────┼───────────────┤\n",
       "│ flatten_1 (<span style=\"color: #0087ff; text-decoration-color: #0087ff\">Flatten</span>)             │ (<span style=\"color: #00d7ff; text-decoration-color: #00d7ff\">None</span>, <span style=\"color: #00af00; text-decoration-color: #00af00\">1536</span>)           │             <span style=\"color: #00af00; text-decoration-color: #00af00\">0</span> │\n",
       "├─────────────────────────────────┼────────────────────────┼───────────────┤\n",
       "│ dense_1 (<span style=\"color: #0087ff; text-decoration-color: #0087ff\">Dense</span>)                 │ (<span style=\"color: #00d7ff; text-decoration-color: #00d7ff\">None</span>, <span style=\"color: #00af00; text-decoration-color: #00af00\">10</span>)             │        <span style=\"color: #00af00; text-decoration-color: #00af00\">15,370</span> │\n",
       "├─────────────────────────────────┼────────────────────────┼───────────────┤\n",
       "│ softmax_1 (<span style=\"color: #0087ff; text-decoration-color: #0087ff\">Softmax</span>)             │ (<span style=\"color: #00d7ff; text-decoration-color: #00d7ff\">None</span>, <span style=\"color: #00af00; text-decoration-color: #00af00\">10</span>)             │             <span style=\"color: #00af00; text-decoration-color: #00af00\">0</span> │\n",
       "└─────────────────────────────────┴────────────────────────┴───────────────┘\n",
       "</pre>\n"
      ],
      "text/plain": [
       "┏━━━━━━━━━━━━━━━━━━━━━━━━━━━━━━━━━┳━━━━━━━━━━━━━━━━━━━━━━━━┳━━━━━━━━━━━━━━━┓\n",
       "┃\u001b[1m \u001b[0m\u001b[1mLayer (type)                   \u001b[0m\u001b[1m \u001b[0m┃\u001b[1m \u001b[0m\u001b[1mOutput Shape          \u001b[0m\u001b[1m \u001b[0m┃\u001b[1m \u001b[0m\u001b[1m      Param #\u001b[0m\u001b[1m \u001b[0m┃\n",
       "┡━━━━━━━━━━━━━━━━━━━━━━━━━━━━━━━━━╇━━━━━━━━━━━━━━━━━━━━━━━━╇━━━━━━━━━━━━━━━┩\n",
       "│ conv2d_1 (\u001b[38;5;33mConv2D\u001b[0m)               │ (\u001b[38;5;45mNone\u001b[0m, \u001b[38;5;34m24\u001b[0m, \u001b[38;5;34m24\u001b[0m, \u001b[38;5;34m24\u001b[0m)     │           \u001b[38;5;34m624\u001b[0m │\n",
       "├─────────────────────────────────┼────────────────────────┼───────────────┤\n",
       "│ max_pooling2d_1 (\u001b[38;5;33mMaxPooling2D\u001b[0m)  │ (\u001b[38;5;45mNone\u001b[0m, \u001b[38;5;34m8\u001b[0m, \u001b[38;5;34m8\u001b[0m, \u001b[38;5;34m24\u001b[0m)       │             \u001b[38;5;34m0\u001b[0m │\n",
       "├─────────────────────────────────┼────────────────────────┼───────────────┤\n",
       "│ flatten_1 (\u001b[38;5;33mFlatten\u001b[0m)             │ (\u001b[38;5;45mNone\u001b[0m, \u001b[38;5;34m1536\u001b[0m)           │             \u001b[38;5;34m0\u001b[0m │\n",
       "├─────────────────────────────────┼────────────────────────┼───────────────┤\n",
       "│ dense_1 (\u001b[38;5;33mDense\u001b[0m)                 │ (\u001b[38;5;45mNone\u001b[0m, \u001b[38;5;34m10\u001b[0m)             │        \u001b[38;5;34m15,370\u001b[0m │\n",
       "├─────────────────────────────────┼────────────────────────┼───────────────┤\n",
       "│ softmax_1 (\u001b[38;5;33mSoftmax\u001b[0m)             │ (\u001b[38;5;45mNone\u001b[0m, \u001b[38;5;34m10\u001b[0m)             │             \u001b[38;5;34m0\u001b[0m │\n",
       "└─────────────────────────────────┴────────────────────────┴───────────────┘\n"
      ]
     },
     "metadata": {},
     "output_type": "display_data"
    },
    {
     "data": {
      "text/html": [
       "<pre style=\"white-space:pre;overflow-x:auto;line-height:normal;font-family:Menlo,'DejaVu Sans Mono',consolas,'Courier New',monospace\"><span style=\"font-weight: bold\"> Total params: </span><span style=\"color: #00af00; text-decoration-color: #00af00\">15,994</span> (62.48 KB)\n",
       "</pre>\n"
      ],
      "text/plain": [
       "\u001b[1m Total params: \u001b[0m\u001b[38;5;34m15,994\u001b[0m (62.48 KB)\n"
      ]
     },
     "metadata": {},
     "output_type": "display_data"
    },
    {
     "data": {
      "text/html": [
       "<pre style=\"white-space:pre;overflow-x:auto;line-height:normal;font-family:Menlo,'DejaVu Sans Mono',consolas,'Courier New',monospace\"><span style=\"font-weight: bold\"> Trainable params: </span><span style=\"color: #00af00; text-decoration-color: #00af00\">15,994</span> (62.48 KB)\n",
       "</pre>\n"
      ],
      "text/plain": [
       "\u001b[1m Trainable params: \u001b[0m\u001b[38;5;34m15,994\u001b[0m (62.48 KB)\n"
      ]
     },
     "metadata": {},
     "output_type": "display_data"
    },
    {
     "data": {
      "text/html": [
       "<pre style=\"white-space:pre;overflow-x:auto;line-height:normal;font-family:Menlo,'DejaVu Sans Mono',consolas,'Courier New',monospace\"><span style=\"font-weight: bold\"> Non-trainable params: </span><span style=\"color: #00af00; text-decoration-color: #00af00\">0</span> (0.00 B)\n",
       "</pre>\n"
      ],
      "text/plain": [
       "\u001b[1m Non-trainable params: \u001b[0m\u001b[38;5;34m0\u001b[0m (0.00 B)\n"
      ]
     },
     "metadata": {},
     "output_type": "display_data"
    }
   ],
   "source": [
    "y_train = tf.keras.utils.to_categorical(y_train, num_classes=10)\n",
    "y_test = tf.keras.utils.to_categorical(y_test, num_classes=10)\n",
    "\n",
    "model = models.Sequential()\n",
    "model.add(layers.Conv2D(24, (5, 5), activation='relu', input_shape= (28, 28, 1)))\n",
    "model.add(layers.MaxPooling2D((3, 3)))\n",
    "model.add(layers.Flatten())\n",
    "model.add(layers.Dense(10))\n",
    "model.add(layers.Softmax())\n",
    "\n",
    "model.summary()\n"
   ]
  },
  {
   "cell_type": "code",
   "execution_count": 51,
   "metadata": {},
   "outputs": [
    {
     "name": "stdout",
     "output_type": "stream",
     "text": [
      "Epoch 1/4\n",
      "\u001b[1m1875/1875\u001b[0m \u001b[32m━━━━━━━━━━━━━━━━━━━━\u001b[0m\u001b[37m\u001b[0m \u001b[1m3s\u001b[0m 2ms/step - accuracy: 0.6899 - loss: 1.1103 - val_accuracy: 0.9301 - val_loss: 0.2531\n",
      "Epoch 2/4\n",
      "\u001b[1m1875/1875\u001b[0m \u001b[32m━━━━━━━━━━━━━━━━━━━━\u001b[0m\u001b[37m\u001b[0m \u001b[1m3s\u001b[0m 2ms/step - accuracy: 0.9266 - loss: 0.2550 - val_accuracy: 0.9459 - val_loss: 0.1864\n",
      "Epoch 3/4\n",
      "\u001b[1m1875/1875\u001b[0m \u001b[32m━━━━━━━━━━━━━━━━━━━━\u001b[0m\u001b[37m\u001b[0m \u001b[1m4s\u001b[0m 2ms/step - accuracy: 0.9471 - loss: 0.1866 - val_accuracy: 0.9585 - val_loss: 0.1441\n",
      "Epoch 4/4\n",
      "\u001b[1m1875/1875\u001b[0m \u001b[32m━━━━━━━━━━━━━━━━━━━━\u001b[0m\u001b[37m\u001b[0m \u001b[1m3s\u001b[0m 2ms/step - accuracy: 0.9592 - loss: 0.1473 - val_accuracy: 0.9657 - val_loss: 0.1208\n"
     ]
    }
   ],
   "source": [
    "model.compile(optimizer='SGD',\n",
    "              loss=tf.keras.losses.CategoricalCrossentropy(),\n",
    "              metrics=['accuracy'])\n",
    "\n",
    "history = model.fit(x_train, y_train, epochs=4, validation_data=(x_test, y_test))"
   ]
  },
  {
   "cell_type": "code",
   "execution_count": 52,
   "metadata": {},
   "outputs": [
    {
     "name": "stdout",
     "output_type": "stream",
     "text": [
      "\u001b[1m1/1\u001b[0m \u001b[32m━━━━━━━━━━━━━━━━━━━━\u001b[0m\u001b[37m\u001b[0m \u001b[1m0s\u001b[0m 23ms/step\n",
      "Predicted output: [[1.3159849e-06 3.7020209e-09 6.0372781e-06 9.1286980e-05 2.4745978e-08\n",
      "  2.2658910e-06 1.3711339e-10 9.9979001e-01 5.4809152e-07 1.0852865e-04]], Predicted class: 7\n"
     ]
    },
    {
     "data": {
      "image/png": "[encoded data removed]",
      "text/plain": [
       "<Figure size 640x480 with 1 Axes>"
      ]
     },
     "metadata": {},
     "output_type": "display_data"
    }
   ],
   "source": [
    "# Reshape a single test sample for prediction\n",
    "sample_input = x_test[0].reshape(1, 28, 28, 1)\n",
    "predicted_output = model.predict(sample_input)\n",
    "\n",
    "# Get the class with the highest probability\n",
    "predicted_class = predicted_output.argmax()\n",
    "print(f\"Predicted output: {predicted_output}, Predicted class: {predicted_class}\")\n",
    "\n",
    "# Plot the image\n",
    "plt.imshow(x_test[0].reshape(28, 28), cmap='gray')\n",
    "plt.title(f\"Predicted Class: {predicted_class}\")\n",
    "plt.axis('off')\n",
    "plt.show()\n"
   ]
  }
 ],
 "metadata": {
  "kernelspec": {
   "display_name": "venv",
   "language": "python",
   "name": "python3"
  },
  "language_info": {
   "codemirror_mode": {
    "name": "ipython",
    "version": 3
   },
   "file_extension": ".py",
   "mimetype": "text/x-python",
   "name": "python",
   "nbconvert_exporter": "python",
   "pygments_lexer": "ipython3",
   "version": "3.11.4"
  }
 },
 "nbformat": 4,
 "nbformat_minor": 2
}
